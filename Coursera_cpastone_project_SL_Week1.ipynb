{
 "cells": [
  {
   "cell_type": "markdown",
   "metadata": {},
   "source": [
    "<h1> Coursera Capstone Project - Week 1 </h1>"
   ]
  },
  {
   "cell_type": "markdown",
   "metadata": {},
   "source": [
    "This notebook will be used for Coursera Capstone Project by Syl. L."
   ]
  },
  {
   "cell_type": "markdown",
   "metadata": {},
   "source": [
    "<h2> Introduction / Business Problem </h2>"
   ]
  },
  {
   "cell_type": "markdown",
   "metadata": {},
   "source": [
    "Toulouse is one of the most young and dynamic big city in France. It is the second largest city of the country in terms of student and the fourth biggest in terms of population. Besides its student, its industry mostly relies on the aeronautic and aerospatial field with young engineer as employees. Therefore the city is rather young and dynamic. Moreover, Toulouse is located is the South of France : its inhabitant have a good living spirit, typical of the mediterranean towns : people like to go out, drink beers and have fun. \n",
    "\n",
    "There are now plenty of bars and pubs in the city and its surrounding, and they are usually full in the afternoon and at night.\n",
    "\n",
    "This project aims at identifying the best location to open a new bar dedicating to beer beverages in the south-east of Toulouse."
   ]
  },
  {
   "cell_type": "markdown",
   "metadata": {},
   "source": [
    "The purpose of this project is therefore to determine the best location in the South-East of Toulouse and its surrounding to open a bar dedicated to beer beverages in order to be accessible to both student and young workers willing to have a drink after work. The choice of the location must also be rationalize regarding the price of a building in the area. The purpose is to give a comprehensive insight into where where is best to open a new venue to maximize the value for money."
   ]
  },
  {
   "cell_type": "markdown",
   "metadata": {},
   "source": [
    "<h2> Data </h2>"
   ]
  },
  {
   "cell_type": "markdown",
   "metadata": {},
   "source": [
    "The following data will be used:\n",
    "- Foursquare API : in order to find existing bars, companies and universities\n",
    "- Google API : to perform reverse geolocalisation\n"
   ]
  },
  {
   "cell_type": "code",
   "execution_count": null,
   "metadata": {},
   "outputs": [],
   "source": []
  },
  {
   "cell_type": "code",
   "execution_count": null,
   "metadata": {},
   "outputs": [],
   "source": []
  }
 ],
 "metadata": {
  "kernelspec": {
   "display_name": "Python",
   "language": "python",
   "name": "conda-env-python-py"
  },
  "language_info": {
   "codemirror_mode": {
    "name": "ipython",
    "version": 3
   },
   "file_extension": ".py",
   "mimetype": "text/x-python",
   "name": "python",
   "nbconvert_exporter": "python",
   "pygments_lexer": "ipython3",
   "version": "3.6.13"
  }
 },
 "nbformat": 4,
 "nbformat_minor": 4
}
